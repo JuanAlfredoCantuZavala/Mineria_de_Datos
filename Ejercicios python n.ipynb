{
 "cells": [
  {
   "cell_type": "markdown",
   "metadata": {},
   "source": [
    "Ejercicio 1"
   ]
  },
  {
   "cell_type": "code",
   "execution_count": 1,
   "metadata": {},
   "outputs": [
    {
     "name": "stdout",
     "output_type": "stream",
     "text": [
      "Juan Alfredo Cantú Zavala 1810736\n"
     ]
    }
   ],
   "source": [
    "n = \"Juan Alfredo Cantú Zavala\"\n",
    "m = \"1810736\"\n",
    "\n",
    "print(n+\" \"+m)"
   ]
  },
  {
   "cell_type": "markdown",
   "metadata": {},
   "source": [
    "Ejercicio 2"
   ]
  },
  {
   "cell_type": "code",
   "execution_count": 13,
   "metadata": {},
   "outputs": [
    {
     "name": "stdout",
     "output_type": "stream",
     "text": [
      "Ingrese el primer número :1\n",
      "Ingrese el segundo número :1\n",
      "Ingrese la opción que quiera realizar: \n",
      " 1. Sumar\n",
      " 2. Restar\n",
      " 3. Multipicar\n",
      " 4. Dividir\n",
      " 5. Elevar el primer numero a la potencia del segundo\n",
      " 6. Salir  6\n",
      "Gracias\n"
     ]
    }
   ],
   "source": [
    "c = int(input(\"Ingrese el primer número :\"))\n",
    "d = int(input(\"Ingrese el segundo número :\"))\n",
    "op = int(input(\"Ingrese la opción que quiera realizar: \\n 1. Sumar\\n 2. Restar\\n 3. Multipicar\\n 4. Dividir\\n 5. Elevar el primer numero a la potencia del segundo\\n 6. Salir  \"))\n",
    "while op<1 or op>6:\n",
    "    print(\"La opcion ingresada no es correcta, intente de nuevo\")\n",
    "    op = int(input(\"Ingrese la opción que quiera realizar: \\n 1. Sumar\\n 2. Restar\\n 3. Multipicar\\n 4. Dividir\\n 5. Elevar el primer numero a la potencia del segundo\\n 6. Salir  \"))\n",
    "\n",
    "while op!=6:\n",
    "    if op == 1:\n",
    "        r = c+d\n",
    "        print(\"\\nLa respuesta es:\",r,\"\\n\")\n",
    "    if op == 2:\n",
    "        r = c-d\n",
    "        print(\"\\nLa respuesta es:\",r,\"\\n\")\n",
    "    if op == 3:\n",
    "        r = c*d\n",
    "        print(\"\\nLa respuesta es:\",r,\"\\n\")\n",
    "    if op == 4:\n",
    "        r = c/d\n",
    "        print(\"\\nLa respuesta es:\",r,\"\\n\")\n",
    "    if op == 5:\n",
    "        r = c**d\n",
    "        print(\"\\nLa respuesta es:\",r,\"\\n\") \n",
    "    op = int(input(\"Ingrese la opción que quiera realizar: \\n 1. Sumar\\n 2. Restar\\n 3. Multipicar\\n 4. Dividir\\n 5. Elevar el primer numero a la potencia del segundo\\n 6. Salir  \"))\n",
    "print(\"Gracias\")\n",
    "\n",
    "\n",
    "\n"
   ]
  },
  {
   "cell_type": "markdown",
   "metadata": {},
   "source": [
    "Ejercicio 3"
   ]
  },
  {
   "cell_type": "code",
   "execution_count": 24,
   "metadata": {},
   "outputs": [
    {
     "name": "stdout",
     "output_type": "stream",
     "text": [
      "[3, 6, 9, 12, 15, 18, 21, 24, 27, 30]\n",
      "\n",
      "La suma de los elementos es  165\n"
     ]
    }
   ],
   "source": [
    "i=1\n",
    "lista=[]\n",
    "while i<=10:\n",
    "    re=i*3\n",
    "    lista.append(re)\n",
    "    a=sum(lista)\n",
    "    i=i+1\n",
    "print(lista)\n",
    "print(\"\\nLa suma de los elementos es \",a)\n",
    "\n",
    "#https://www.youtube.com/watch?v=aF1tiL5A-iU"
   ]
  },
  {
   "cell_type": "markdown",
   "metadata": {},
   "source": [
    "Ejercicio 4"
   ]
  },
  {
   "cell_type": "code",
   "execution_count": 29,
   "metadata": {},
   "outputs": [
    {
     "name": "stdout",
     "output_type": "stream",
     "text": [
      "Ingrese un numero: 10\n",
      "El numero es par\n",
      "El numero no es primo\n"
     ]
    }
   ],
   "source": [
    "num = int(input(\"Ingrese un numero: \"))\n",
    "if num%2==0:\n",
    "    print(\"El numero es par\")\n",
    "else:\n",
    "    print(\"El numero es impar\")\n",
    "conyador=0\n",
    "for i in range(1,num):\n",
    "    if num%i==0:\n",
    "        conyador=conyador+1\n",
    "if conyador < 2:\n",
    "    print(\"El numero es primo\")\n",
    "else:\n",
    "    print(\"El numero no es primo\")\n",
    "\n",
    "    \n",
    "    "
   ]
  },
  {
   "cell_type": "markdown",
   "metadata": {},
   "source": [
    "Ejercicio 5"
   ]
  },
  {
   "cell_type": "code",
   "execution_count": 2,
   "metadata": {},
   "outputs": [
    {
     "name": "stdout",
     "output_type": "stream",
     "text": [
      "Ingrese el primer número :5\n",
      "Ingrese el segundo número :7\n",
      "Ingrese la opción que quiera realizar: \n",
      " 1. Sumar\n",
      " 2. Restar\n",
      " 3. Multipicar\n",
      " 4. Dividir\n",
      " 5. Elevar el primer numero a la potencia del segundo\n",
      " 6. Salir  3\n",
      "\n",
      "La respuesta es: 35 \n",
      "\n",
      "Ingrese la opción que quiera realizar: \n",
      " 1. Sumar\n",
      " 2. Restar\n",
      " 3. Multipicar\n",
      " 4. Dividir\n",
      " 5. Elevar el primer numero a la potencia del segundo\n",
      " 6. Salir  6\n",
      "Gracias\n"
     ]
    }
   ],
   "source": [
    "import math as m\n",
    "def suma(a,b):\n",
    "    resultado=a+b\n",
    "    return resultado\n",
    "\n",
    "def resta(a,b):\n",
    "    resultado=a-b\n",
    "    return resultado\n",
    "\n",
    "def multiplicacion(a,b):\n",
    "    resultado=a*b\n",
    "    return resultado\n",
    "\n",
    "def division(a,b):\n",
    "    resultado=a/b\n",
    "    return resultado\n",
    "\n",
    "def exponencial(a,b):\n",
    "    resultado=a**b\n",
    "    return resultado\n",
    "\n",
    "c = int(input(\"Ingrese el primer número :\"))\n",
    "d = int(input(\"Ingrese el segundo número :\"))\n",
    "op = int(input(\"Ingrese la opción que quiera realizar: \\n 1. Sumar\\n 2. Restar\\n 3. Multipicar\\n 4. Dividir\\n 5. Elevar el primer numero a la potencia del segundo\\n 6. Salir  \"))\n",
    "while op<1 or op>6:\n",
    "    print(\"La opcion ingresada no es correcta, intente de nuevo\")\n",
    "    op = int(input(\"Ingrese la opción que quiera realizar: \\n 1. Sumar\\n 2. Restar\\n 3. Multipicar\\n 4. Dividir\\n 5. Elevar el primer numero a la potencia del segundo\\n 6. Salir  \"))\n",
    "\n",
    "while op!=6:\n",
    "    if op == 1:\n",
    "        r=suma(c,d)\n",
    "        print(\"\\nLa respuesta es:\",r,\"\\n\")\n",
    "    if op == 2:\n",
    "        r=resta(c,d)\n",
    "        print(\"\\nLa respuesta es:\",r,\"\\n\")\n",
    "    if op == 3:\n",
    "        r=multiplicacion(c,d)\n",
    "        print(\"\\nLa respuesta es:\",r,\"\\n\")\n",
    "    if op == 4:\n",
    "        r=division(c,d)\n",
    "        print(\"\\nLa respuesta es:\",r,\"\\n\")\n",
    "    if op == 5:\n",
    "        r=exponencial(c,d)\n",
    "        print(\"\\nLa respuesta es:\",r,\"\\n\")\n",
    "    op = int(input(\"Ingrese la opción que quiera realizar: \\n 1. Sumar\\n 2. Restar\\n 3. Multipicar\\n 4. Dividir\\n 5. Elevar el primer numero a la potencia del segundo\\n 6. Salir  \"))\n",
    "print(\"Gracias\")\n"
   ]
  },
  {
   "cell_type": "markdown",
   "metadata": {},
   "source": [
    "Ejercicios de estructuras básicas de python"
   ]
  },
  {
   "cell_type": "markdown",
   "metadata": {},
   "source": [
    "Tuplas"
   ]
  },
  {
   "cell_type": "code",
   "execution_count": 8,
   "metadata": {},
   "outputs": [
    {
     "name": "stdout",
     "output_type": "stream",
     "text": [
      "<class 'float'>\n",
      "<class 'int'>\n",
      "<class 'bool'>\n",
      "<class 'complex'>\n"
     ]
    }
   ],
   "source": [
    "\n",
    "f=2.5\n",
    "e=2\n",
    "b=True\n",
    "c=2+3j\n",
    "print(type(f))\n",
    "print(type(e))\n",
    "print(type(b))\n",
    "print(type(c))\n",
    "#https://relopezbriega.github.io/blog/2015/10/12/numeros-complejos-con-python/"
   ]
  },
  {
   "cell_type": "code",
   "execution_count": 22,
   "metadata": {},
   "outputs": [
    {
     "name": "stdout",
     "output_type": "stream",
     "text": [
      "10\n",
      "Lakers\n",
      "True\n"
     ]
    }
   ],
   "source": [
    "T=(10,11,12,23,\"Dodgers\",\"LA\",\"Lakers\")\n",
    "print(T[0])\n",
    "print(T[len(T)-1])\n",
    "print(\"Lakers\" in T)"
   ]
  },
  {
   "cell_type": "markdown",
   "metadata": {},
   "source": [
    "Listas"
   ]
  },
  {
   "cell_type": "code",
   "execution_count": 54,
   "metadata": {},
   "outputs": [
    {
     "name": "stdout",
     "output_type": "stream",
     "text": [
      "[53, 80, 77, 17, 11, 79, 63, 54, 23, 0, 40, 29, 72, 49, 52, 22, 32, 69, 37, 75, 21, 28, 27, 52, 80, 45, 40, 78, 60, 52, 26, 31, 42, 73, 20, 32, 20, 75, 76, 45]\n",
      "\n",
      "La cantidad de numeros pares es:  21\n",
      "\n",
      "La cantidad de numeros impares es:  19\n",
      "\n",
      " [0, 20, 20, 22, 26, 28, 32, 32, 40, 40, 42, 52, 52, 52, 54, 60, 72, 76, 78, 80, 80]\n",
      "\n",
      " [79, 77, 75, 75, 73, 69, 63, 53, 49, 45, 45, 37, 31, 29, 27, 23, 21, 17, 11]\n",
      "\n",
      " [53, 80, 77, 17, 11, 79, 63, 54, 23, 0, 40, 29, 72, 49, 52, 22, 32, 69, 37, 75, 21, 28, 27, 52, 80, 45, 40, 78, 60, 52, 26, 31, 42, 73, 20, 32, 20, 75, 76, 45, 100]\n",
      "\n",
      " 41\n",
      "\n",
      " [0, 11, 17, 20, 20, 21, 22, 23, 26, 27, 28, 29, 31, 32, 32, 37, 40, 40, 42, 45, 45, 49, 52, 52, 52, 53, 54, 60, 63, 69, 72, 73, 75, 75, 76, 77, 78, 79, 80, 80, 100]\n",
      "\n",
      " [11, 17, 20, 20, 21, 22, 23, 26, 27, 28, 29, 31, 32, 32, 37, 40, 40, 42, 45, 45, 49, 52, 52, 52, 53, 54, 60, 63, 69, 72, 73, 75, 75, 76, 77, 78, 79, 80, 80, 100]\n",
      "\n",
      " []\n"
     ]
    }
   ],
   "source": [
    "import random as r\n",
    "l=[]\n",
    "for i in range(0,40):\n",
    "    na=r.randint(0,80)\n",
    "    l.append(na)\n",
    "print(l)\n",
    "\n",
    "def listas(l):\n",
    "    lpar=[]\n",
    "    limpar=[]\n",
    "    \n",
    "    for i in range(0,40):\n",
    "        res=l[i]%2\n",
    "        if res == 0:\n",
    "            lpar.append(l[i])\n",
    "        else:\n",
    "            limpar.append(l[i])\n",
    "    a=len(lpar)\n",
    "    b=len(limpar)\n",
    "    print(\"\\nLa cantidad de numeros pares es: \",a)\n",
    "    print(\"\\nLa cantidad de numeros impares es: \",b)\n",
    "    lpar.sort()\n",
    "    limpar.sort(reverse=True)\n",
    "    print(\"\\n\",lpar)\n",
    "    print(\"\\n\",limpar)\n",
    "\n",
    "listas(l)        \n",
    "l.append(100)\n",
    "print(\"\\n\",l)\n",
    "print(\"\\n\",len(l))\n",
    "l.sort()\n",
    "print(\"\\n\",l)\n",
    "l.remove(0)\n",
    "print(\"\\n\",l)\n",
    "l.clear()\n",
    "print(\"\\n\",l)\n",
    "\n",
    "\n",
    "\n",
    "    \n"
   ]
  },
  {
   "cell_type": "markdown",
   "metadata": {},
   "source": [
    "Diccionarios"
   ]
  },
  {
   "cell_type": "code",
   "execution_count": 1,
   "metadata": {},
   "outputs": [
    {
     "name": "stdout",
     "output_type": "stream",
     "text": [
      "{'Brady': 42, 'Rooney': 33, 'Sancho': 20, 'Messi': 33, 'James': 35, 'Doncic': 21, 'Rashford': 22, 'Martial': 23}\n",
      "Brady\n",
      "Rooney\n",
      "Sancho\n",
      "Messi\n",
      "James\n",
      "Doncic\n",
      "Rashford\n",
      "Martial\n"
     ]
    }
   ],
   "source": [
    "diccionario={\"Brady\":42,\"Rooney\":33,\"Sancho\":20,\"Messi\":33,\"James\":35,\"Doncic\":21}\n",
    "\n",
    "lista=[42,33,20,33,35,21]\n",
    "lista.sort()\n",
    "\n",
    "diccionario[\"Rashford\"]=22\n",
    "diccionario[\"Martial\"]=23\n",
    "\n",
    "print(diccionario)\n",
    "\n",
    "for i in diccionario:\n",
    "    print(i)\n",
    "\n",
    "#https://www.youtube.com/watch?v=hjNWsqLAPv4&t=175s"
   ]
  },
  {
   "cell_type": "markdown",
   "metadata": {},
   "source": [
    "Sets"
   ]
  },
  {
   "cell_type": "code",
   "execution_count": 38,
   "metadata": {},
   "outputs": [
    {
     "name": "stdout",
     "output_type": "stream",
     "text": [
      "{1, 2, 3, 4, 5, 6, 7, 8, 9, 10, 11, 12, 13, 14, 15, 16, 17, 18, 19, 20, 21, 22, 23, 24, 25}\n",
      "\n",
      " 25\n",
      "\n",
      " [5, 6, 8, 9, 3]\n",
      "\n",
      " True\n",
      "\n",
      " True\n",
      "\n",
      " False\n",
      "\n",
      " False\n",
      "\n",
      " False\n"
     ]
    }
   ],
   "source": [
    "import random as r\n",
    "set1=set()\n",
    "for i in range (0,100):\n",
    "    a=r.randint(1,25)\n",
    "    set1.add(a)\n",
    "print(set1)\n",
    "print(\"\\n\",len(set1))\n",
    "\n",
    "lista12=[]\n",
    "i=0\n",
    "while i < 5:\n",
    "    a=r.randint(1,10)\n",
    "    lista12.append(a)\n",
    "    i=i+1\n",
    "print(\"\\n\",lista12)\n",
    "\n",
    "j=0\n",
    "while j < 5:\n",
    "    print(\"\\n\",lista[j] in set1)\n",
    "    j=j+1\n",
    "\n"
   ]
  },
  {
   "cell_type": "code",
   "execution_count": null,
   "metadata": {},
   "outputs": [],
   "source": []
  },
  {
   "cell_type": "code",
   "execution_count": null,
   "metadata": {},
   "outputs": [],
   "source": []
  }
 ],
 "metadata": {
  "kernelspec": {
   "display_name": "Python 3",
   "language": "python",
   "name": "python3"
  },
  "language_info": {
   "codemirror_mode": {
    "name": "ipython",
    "version": 3
   },
   "file_extension": ".py",
   "mimetype": "text/x-python",
   "name": "python",
   "nbconvert_exporter": "python",
   "pygments_lexer": "ipython3",
   "version": "3.7.4"
  }
 },
 "nbformat": 4,
 "nbformat_minor": 2
}
